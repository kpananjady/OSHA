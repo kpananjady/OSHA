{
 "cells": [
  {
   "cell_type": "code",
   "execution_count": 138,
   "metadata": {},
   "outputs": [],
   "source": [
    "import pandas as pd\n",
    "from datetime import date"
   ]
  },
  {
   "cell_type": "markdown",
   "metadata": {},
   "source": [
    "Main takeaways:\n",
    "- 300+ COVID complaints in CT, 38 currently open\n",
    "- Only two resulted in penalties, both receiving maximum amounts (Link here: https://www.osha.gov/news/newsreleases/national/10092020) Only 60+ nationwide\n",
    "- Vast majority of complaints in heatlhcare, followed by manufacturing\n",
    "- Vast majority of complaints do not result in investigations\n",
    "- OSHA does not have a COVID-19 specific standards \n",
    "- CT-specific OSHA guidelines?\n",
    "- Penalty scale is here https://www.osha.gov/penalties/"
   ]
  },
  {
   "cell_type": "markdown",
   "metadata": {},
   "source": [
    "# Read in OSHA file and clean it"
   ]
  },
  {
   "cell_type": "code",
   "execution_count": 139,
   "metadata": {},
   "outputs": [],
   "source": [
    "df_open = pd.read_csv('Copy_of_Open_Federal_and_State_Plan_Valid_Covid-19_Complaints_through_October_4.xlsx - UPA One Liner Detail.csv')"
   ]
  },
  {
   "cell_type": "code",
   "execution_count": null,
   "metadata": {},
   "outputs": [],
   "source": [
    "#open "
   ]
  },
  {
   "cell_type": "code",
   "execution_count": 144,
   "metadata": {},
   "outputs": [],
   "source": [
    "df_open_ct = df_open[(df_open['RID']=='01-120-00')|(df_open['RID']=='01-115-00')|(df_open['RID']=='01-509-00')]"
   ]
  },
  {
   "cell_type": "code",
   "execution_count": 147,
   "metadata": {},
   "outputs": [
    {
     "name": "stderr",
     "output_type": "stream",
     "text": [
      "/Users/kasturipananjady/.pyenv/versions/3.7.1/lib/python3.7/site-packages/ipykernel_launcher.py:1: SettingWithCopyWarning: \n",
      "A value is trying to be set on a copy of a slice from a DataFrame.\n",
      "Try using .loc[row_indexer,col_indexer] = value instead\n",
      "\n",
      "See the caveats in the documentation: https://pandas.pydata.org/pandas-docs/stable/user_guide/indexing.html#returning-a-view-versus-a-copy\n",
      "  \"\"\"Entry point for launching an IPython kernel.\n"
     ]
    }
   ],
   "source": [
    "df_open_ct['Receipt Date'] = pd.to_datetime(df_open_ct['Receipt Date'])"
   ]
  },
  {
   "cell_type": "code",
   "execution_count": null,
   "metadata": {},
   "outputs": [],
   "source": [
    "# Hartford Area\n",
    "# Bridgeport\n",
    "# State OSHA office"
   ]
  },
  {
   "cell_type": "code",
   "execution_count": 160,
   "metadata": {},
   "outputs": [
    {
     "data": {
      "text/plain": [
       "38"
      ]
     },
     "execution_count": 160,
     "metadata": {},
     "output_type": "execute_result"
    }
   ],
   "source": [
    "len(df_open_ct)"
   ]
  },
  {
   "cell_type": "code",
   "execution_count": 154,
   "metadata": {},
   "outputs": [
    {
     "data": {
      "text/plain": [
       "01-120-00    19\n",
       "01-115-00    14\n",
       "01-509-00     5\n",
       "Name: RID, dtype: int64"
      ]
     },
     "execution_count": 154,
     "metadata": {},
     "output_type": "execute_result"
    }
   ],
   "source": [
    "df_open_ct['RID'].value_counts()"
   ]
  },
  {
   "cell_type": "code",
   "execution_count": 196,
   "metadata": {},
   "outputs": [
    {
     "data": {
      "text/plain": [
       "NaN          31\n",
       "1475696.0     2\n",
       "1479251.0     1\n",
       "1479626.0     1\n",
       "1483844.0     1\n",
       "1488908.0     1\n",
       "1491971.0     1\n",
       "Name: Insp ID, dtype: int64"
      ]
     },
     "execution_count": 196,
     "metadata": {},
     "output_type": "execute_result"
    }
   ],
   "source": [
    "df_open_ct['Insp ID'].value_counts(dropna=False)"
   ]
  },
  {
   "cell_type": "code",
   "execution_count": 157,
   "metadata": {},
   "outputs": [
    {
     "name": "stderr",
     "output_type": "stream",
     "text": [
      "/Users/kasturipananjady/.pyenv/versions/3.7.1/lib/python3.7/site-packages/ipykernel_launcher.py:1: SettingWithCopyWarning: \n",
      "A value is trying to be set on a copy of a slice from a DataFrame.\n",
      "Try using .loc[row_indexer,col_indexer] = value instead\n",
      "\n",
      "See the caveats in the documentation: https://pandas.pydata.org/pandas-docs/stable/user_guide/indexing.html#returning-a-view-versus-a-copy\n",
      "  \"\"\"Entry point for launching an IPython kernel.\n"
     ]
    }
   ],
   "source": [
    "df_open_ct['Industry_code'] = df_open_ct['Primary/Site NAICS'].str.extract(r'(\\d\\d)')"
   ]
  },
  {
   "cell_type": "code",
   "execution_count": 158,
   "metadata": {},
   "outputs": [],
   "source": [
    "df_ct_open_complaints_by_industry = pd.DataFrame(df_open_ct['Industry_code'].value_counts()).reset_index().rename(columns={\n",
    "    'index':'Code',\n",
    "    'Industry_code': 'complaints_open'\n",
    "})"
   ]
  },
  {
   "cell_type": "code",
   "execution_count": 166,
   "metadata": {},
   "outputs": [],
   "source": [
    "df_ct_open_complaints_by_industry.Code = df_ct_open_complaints_by_industry.Code.astype(int)"
   ]
  },
  {
   "cell_type": "code",
   "execution_count": 169,
   "metadata": {},
   "outputs": [],
   "source": [
    "df_ct_open_complaints_by_industry = df_ct_open_complaints_by_industry.merge(df_naisc, left_on='Code', right_on='Code').drop(columns='Number of Business Establishments')"
   ]
  },
  {
   "cell_type": "code",
   "execution_count": null,
   "metadata": {},
   "outputs": [],
   "source": [
    "#closed"
   ]
  },
  {
   "cell_type": "code",
   "execution_count": 190,
   "metadata": {},
   "outputs": [
    {
     "data": {
      "text/plain": [
       "1482808.0    7\n",
       "1484919.0    4\n",
       "1474295.0    4\n",
       "1474648.0    4\n",
       "1473196.0    4\n",
       "            ..\n",
       "1483860.0    1\n",
       "1483858.0    1\n",
       "1483856.0    1\n",
       "1483848.0    1\n",
       "1487045.0    1\n",
       "Name: Insp ID, Length: 670, dtype: int64"
      ]
     },
     "execution_count": 190,
     "metadata": {},
     "output_type": "execute_result"
    }
   ],
   "source": [
    "df_closed['Insp ID'].value_counts()"
   ]
  },
  {
   "cell_type": "code",
   "execution_count": 4,
   "metadata": {},
   "outputs": [],
   "source": [
    "df_closed= pd.read_csv('Copy_of_Closed_Federal_and_State_Plan_Valid_Covid-19_Complaints_through_October_4.xlsx - UPA One Liner Detail.csv')"
   ]
  },
  {
   "cell_type": "code",
   "execution_count": 204,
   "metadata": {},
   "outputs": [
    {
     "data": {
      "text/html": [
       "<div>\n",
       "<style scoped>\n",
       "    .dataframe tbody tr th:only-of-type {\n",
       "        vertical-align: middle;\n",
       "    }\n",
       "\n",
       "    .dataframe tbody tr th {\n",
       "        vertical-align: top;\n",
       "    }\n",
       "\n",
       "    .dataframe thead th {\n",
       "        text-align: right;\n",
       "    }\n",
       "</style>\n",
       "<table border=\"1\" class=\"dataframe\">\n",
       "  <thead>\n",
       "    <tr style=\"text-align: right;\">\n",
       "      <th></th>\n",
       "      <th>RID</th>\n",
       "      <th>Act ID</th>\n",
       "      <th>Establishment Name\\nSite City-State-Zip</th>\n",
       "      <th>County</th>\n",
       "      <th>Primary/Site NAICS</th>\n",
       "      <th>Receipt Date</th>\n",
       "      <th>Receipt Type</th>\n",
       "      <th>Formality</th>\n",
       "      <th>Insp ID</th>\n",
       "      <th>Addl' Code</th>\n",
       "      <th>Hazard Desc and Location</th>\n",
       "      <th>No Alleged Hazards/No Emp Exposed</th>\n",
       "    </tr>\n",
       "  </thead>\n",
       "  <tbody>\n",
       "    <tr>\n",
       "      <th>0</th>\n",
       "      <td>01-111-00</td>\n",
       "      <td>C-1664823</td>\n",
       "      <td>Half Pints Preschool &amp; Daycare Center\\n7 Eusti...</td>\n",
       "      <td>KENNEBEC</td>\n",
       "      <td>624410 /\\n624410</td>\n",
       "      <td>9/24/2020</td>\n",
       "      <td>Phone</td>\n",
       "      <td>Nonformal</td>\n",
       "      <td>NaN</td>\n",
       "      <td>N-16-COVID-19:</td>\n",
       "      <td>The employer is not enforcing CDC guidelines a...</td>\n",
       "      <td>1/\\n11</td>\n",
       "    </tr>\n",
       "    <tr>\n",
       "      <th>1</th>\n",
       "      <td>01-114-00</td>\n",
       "      <td>C-1655035</td>\n",
       "      <td>U.S. Postal Service\\n305 South Washington Stre...</td>\n",
       "      <td>BRISTOL</td>\n",
       "      <td>491110 /\\n491110</td>\n",
       "      <td>9/3/2020</td>\n",
       "      <td>Phone</td>\n",
       "      <td>Nonformal</td>\n",
       "      <td>NaN</td>\n",
       "      <td>N-16-COVID-19:</td>\n",
       "      <td>1. Not everyone is wearing a face mask fully  ...</td>\n",
       "      <td>2/\\n2</td>\n",
       "    </tr>\n",
       "    <tr>\n",
       "      <th>2</th>\n",
       "      <td>01-114-00</td>\n",
       "      <td>C-1659760</td>\n",
       "      <td>Yotel Boston\\n65 Seaport Boulevard, BOSTON, MA...</td>\n",
       "      <td>SUFFOLK</td>\n",
       "      <td>721110 /\\n721110</td>\n",
       "      <td>9/14/2020</td>\n",
       "      <td>Online</td>\n",
       "      <td>Nonformal</td>\n",
       "      <td>NaN</td>\n",
       "      <td>N-16-COVID-19:</td>\n",
       "      <td>An employee tested positive for COVID-19  afte...</td>\n",
       "      <td>1/\\n75</td>\n",
       "    </tr>\n",
       "    <tr>\n",
       "      <th>3</th>\n",
       "      <td>01-114-00</td>\n",
       "      <td>C-1662856</td>\n",
       "      <td>US Postal Service\\n333 Commerce Drive, BRAINTR...</td>\n",
       "      <td>NORFOLK</td>\n",
       "      <td>491110 /\\n491110</td>\n",
       "      <td>9/22/2020</td>\n",
       "      <td>Phone</td>\n",
       "      <td>Nonformal</td>\n",
       "      <td>NaN</td>\n",
       "      <td>N-16-COVID-19:</td>\n",
       "      <td>333 Commerce Drive, Braintree, Ma. \\n\\nThe wea...</td>\n",
       "      <td>1/\\n10</td>\n",
       "    </tr>\n",
       "    <tr>\n",
       "      <th>4</th>\n",
       "      <td>01-115-00</td>\n",
       "      <td>C-1659207</td>\n",
       "      <td>Macys Logistics and Operations\\n475 Knotter Dr...</td>\n",
       "      <td>NEW HAVEN</td>\n",
       "      <td>541614 /\\n541614</td>\n",
       "      <td>9/14/2020</td>\n",
       "      <td>Online</td>\n",
       "      <td>Formal</td>\n",
       "      <td>NaN</td>\n",
       "      <td>N-16-COVID-19:</td>\n",
       "      <td>Employees lowering Covid-19 masks to talk to o...</td>\n",
       "      <td>/\\n</td>\n",
       "    </tr>\n",
       "    <tr>\n",
       "      <th>...</th>\n",
       "      <td>...</td>\n",
       "      <td>...</td>\n",
       "      <td>...</td>\n",
       "      <td>...</td>\n",
       "      <td>...</td>\n",
       "      <td>...</td>\n",
       "      <td>...</td>\n",
       "      <td>...</td>\n",
       "      <td>...</td>\n",
       "      <td>...</td>\n",
       "      <td>...</td>\n",
       "      <td>...</td>\n",
       "    </tr>\n",
       "    <tr>\n",
       "      <th>26958</th>\n",
       "      <td>10-553-60</td>\n",
       "      <td>C-1634751</td>\n",
       "      <td>KAISER ALUMINUM FABRICATED PRODUCTS DBA KAISER...</td>\n",
       "      <td>SPOKANE</td>\n",
       "      <td>331314 /\\n331314</td>\n",
       "      <td>7/30/2020</td>\n",
       "      <td>Mail</td>\n",
       "      <td>Nonformal</td>\n",
       "      <td>NaN</td>\n",
       "      <td>N-16-COVID-19:</td>\n",
       "      <td>Facilitator not maintaining social distancing ...</td>\n",
       "      <td>/\\n</td>\n",
       "    </tr>\n",
       "    <tr>\n",
       "      <th>26959</th>\n",
       "      <td>10-553-60</td>\n",
       "      <td>C-1638244</td>\n",
       "      <td>JTI COLFAX LLC DBA JONES TRUCK &amp; IMPLEMENT\\n42...</td>\n",
       "      <td>WHITMAN</td>\n",
       "      <td>423820 /\\n423820</td>\n",
       "      <td>8/4/2020</td>\n",
       "      <td>Mail</td>\n",
       "      <td>Nonformal</td>\n",
       "      <td>NaN</td>\n",
       "      <td>N-16-COVID-19:</td>\n",
       "      <td>Between 30-40 employees at each location not w...</td>\n",
       "      <td>/\\n</td>\n",
       "    </tr>\n",
       "    <tr>\n",
       "      <th>26960</th>\n",
       "      <td>10-553-60</td>\n",
       "      <td>C-1641925</td>\n",
       "      <td>PIONEER HUMAN SERVICES DBA SPOKANE RESIDENTIAL...</td>\n",
       "      <td>SPOKANE</td>\n",
       "      <td>561210 /\\n561210</td>\n",
       "      <td>8/10/2020</td>\n",
       "      <td>Mail</td>\n",
       "      <td>Formal</td>\n",
       "      <td>NaN</td>\n",
       "      <td>N-16-COVID-19:</td>\n",
       "      <td>Coworker tested positive for COVID-19 and came...</td>\n",
       "      <td>/\\n</td>\n",
       "    </tr>\n",
       "    <tr>\n",
       "      <th>26961</th>\n",
       "      <td>10-553-60</td>\n",
       "      <td>C-1642846</td>\n",
       "      <td>SPOKANE COUNTY DBA SPOKANE COUNTY\\nW 1116 Broa...</td>\n",
       "      <td>SPOKANE</td>\n",
       "      <td>921120 /\\n921120</td>\n",
       "      <td>8/11/2020</td>\n",
       "      <td>Mail</td>\n",
       "      <td>Formal</td>\n",
       "      <td>NaN</td>\n",
       "      <td>N-16-COVID-19:</td>\n",
       "      <td>Employees not wearing masks.</td>\n",
       "      <td>/\\n</td>\n",
       "    </tr>\n",
       "    <tr>\n",
       "      <th>26962</th>\n",
       "      <td>10-553-60</td>\n",
       "      <td>C-1647719</td>\n",
       "      <td>SCHOOL DISTRICT NO 50 DBA SCHOOL DISTRICT NO 5...</td>\n",
       "      <td>FERRY</td>\n",
       "      <td>611110 /\\n611110</td>\n",
       "      <td>8/19/2020</td>\n",
       "      <td>Mail</td>\n",
       "      <td>Formal</td>\n",
       "      <td>NaN</td>\n",
       "      <td>N-16-COVID-19:</td>\n",
       "      <td>Staff in the school office are not wearing mas...</td>\n",
       "      <td>/\\n</td>\n",
       "    </tr>\n",
       "  </tbody>\n",
       "</table>\n",
       "<p>26963 rows × 12 columns</p>\n",
       "</div>"
      ],
      "text/plain": [
       "             RID     Act ID  \\\n",
       "0      01-111-00  C-1664823   \n",
       "1      01-114-00  C-1655035   \n",
       "2      01-114-00  C-1659760   \n",
       "3      01-114-00  C-1662856   \n",
       "4      01-115-00  C-1659207   \n",
       "...          ...        ...   \n",
       "26958  10-553-60  C-1634751   \n",
       "26959  10-553-60  C-1638244   \n",
       "26960  10-553-60  C-1641925   \n",
       "26961  10-553-60  C-1642846   \n",
       "26962  10-553-60  C-1647719   \n",
       "\n",
       "                 Establishment Name\\nSite City-State-Zip     County  \\\n",
       "0      Half Pints Preschool & Daycare Center\\n7 Eusti...   KENNEBEC   \n",
       "1      U.S. Postal Service\\n305 South Washington Stre...    BRISTOL   \n",
       "2      Yotel Boston\\n65 Seaport Boulevard, BOSTON, MA...    SUFFOLK   \n",
       "3      US Postal Service\\n333 Commerce Drive, BRAINTR...    NORFOLK   \n",
       "4      Macys Logistics and Operations\\n475 Knotter Dr...  NEW HAVEN   \n",
       "...                                                  ...        ...   \n",
       "26958  KAISER ALUMINUM FABRICATED PRODUCTS DBA KAISER...    SPOKANE   \n",
       "26959  JTI COLFAX LLC DBA JONES TRUCK & IMPLEMENT\\n42...    WHITMAN   \n",
       "26960  PIONEER HUMAN SERVICES DBA SPOKANE RESIDENTIAL...    SPOKANE   \n",
       "26961  SPOKANE COUNTY DBA SPOKANE COUNTY\\nW 1116 Broa...    SPOKANE   \n",
       "26962  SCHOOL DISTRICT NO 50 DBA SCHOOL DISTRICT NO 5...      FERRY   \n",
       "\n",
       "      Primary/Site NAICS Receipt Date Receipt Type  Formality  Insp ID  \\\n",
       "0       624410 /\\n624410    9/24/2020        Phone  Nonformal      NaN   \n",
       "1       491110 /\\n491110     9/3/2020        Phone  Nonformal      NaN   \n",
       "2       721110 /\\n721110    9/14/2020       Online  Nonformal      NaN   \n",
       "3       491110 /\\n491110    9/22/2020        Phone  Nonformal      NaN   \n",
       "4       541614 /\\n541614    9/14/2020       Online     Formal      NaN   \n",
       "...                  ...          ...          ...        ...      ...   \n",
       "26958   331314 /\\n331314    7/30/2020         Mail  Nonformal      NaN   \n",
       "26959   423820 /\\n423820     8/4/2020         Mail  Nonformal      NaN   \n",
       "26960   561210 /\\n561210    8/10/2020         Mail     Formal      NaN   \n",
       "26961   921120 /\\n921120    8/11/2020         Mail     Formal      NaN   \n",
       "26962   611110 /\\n611110    8/19/2020         Mail     Formal      NaN   \n",
       "\n",
       "            Addl' Code                           Hazard Desc and Location  \\\n",
       "0      N-16-COVID-19:   The employer is not enforcing CDC guidelines a...   \n",
       "1      N-16-COVID-19:   1. Not everyone is wearing a face mask fully  ...   \n",
       "2      N-16-COVID-19:   An employee tested positive for COVID-19  afte...   \n",
       "3      N-16-COVID-19:   333 Commerce Drive, Braintree, Ma. \\n\\nThe wea...   \n",
       "4      N-16-COVID-19:   Employees lowering Covid-19 masks to talk to o...   \n",
       "...                ...                                                ...   \n",
       "26958  N-16-COVID-19:   Facilitator not maintaining social distancing ...   \n",
       "26959  N-16-COVID-19:   Between 30-40 employees at each location not w...   \n",
       "26960  N-16-COVID-19:   Coworker tested positive for COVID-19 and came...   \n",
       "26961  N-16-COVID-19:                       Employees not wearing masks.    \n",
       "26962  N-16-COVID-19:   Staff in the school office are not wearing mas...   \n",
       "\n",
       "      No Alleged Hazards/No Emp Exposed  \n",
       "0                                1/\\n11  \n",
       "1                                 2/\\n2  \n",
       "2                                1/\\n75  \n",
       "3                                1/\\n10  \n",
       "4                                   /\\n  \n",
       "...                                 ...  \n",
       "26958                               /\\n  \n",
       "26959                               /\\n  \n",
       "26960                               /\\n  \n",
       "26961                               /\\n  \n",
       "26962                               /\\n  \n",
       "\n",
       "[26963 rows x 12 columns]"
      ]
     },
     "execution_count": 204,
     "metadata": {},
     "output_type": "execute_result"
    }
   ],
   "source": [
    "df_closed"
   ]
  },
  {
   "cell_type": "code",
   "execution_count": 191,
   "metadata": {},
   "outputs": [
    {
     "data": {
      "text/html": [
       "<div>\n",
       "<style scoped>\n",
       "    .dataframe tbody tr th:only-of-type {\n",
       "        vertical-align: middle;\n",
       "    }\n",
       "\n",
       "    .dataframe tbody tr th {\n",
       "        vertical-align: top;\n",
       "    }\n",
       "\n",
       "    .dataframe thead th {\n",
       "        text-align: right;\n",
       "    }\n",
       "</style>\n",
       "<table border=\"1\" class=\"dataframe\">\n",
       "  <thead>\n",
       "    <tr style=\"text-align: right;\">\n",
       "      <th></th>\n",
       "      <th>RID</th>\n",
       "      <th>Act ID</th>\n",
       "      <th>Establishment Name\\nSite City-State-Zip</th>\n",
       "      <th>County</th>\n",
       "      <th>Primary/Site NAICS</th>\n",
       "      <th>Receipt Date</th>\n",
       "      <th>Receipt Type</th>\n",
       "      <th>Formality</th>\n",
       "      <th>Insp ID</th>\n",
       "      <th>Addl' Code</th>\n",
       "      <th>Hazard Desc and Location</th>\n",
       "      <th>No Alleged Hazards/No Emp Exposed</th>\n",
       "    </tr>\n",
       "  </thead>\n",
       "  <tbody>\n",
       "    <tr>\n",
       "      <th>0</th>\n",
       "      <td>01-111-00</td>\n",
       "      <td>C-1664823</td>\n",
       "      <td>Half Pints Preschool &amp; Daycare Center\\n7 Eusti...</td>\n",
       "      <td>KENNEBEC</td>\n",
       "      <td>624410 /\\n624410</td>\n",
       "      <td>9/24/2020</td>\n",
       "      <td>Phone</td>\n",
       "      <td>Nonformal</td>\n",
       "      <td>NaN</td>\n",
       "      <td>N-16-COVID-19:</td>\n",
       "      <td>The employer is not enforcing CDC guidelines a...</td>\n",
       "      <td>1/\\n11</td>\n",
       "    </tr>\n",
       "    <tr>\n",
       "      <th>1</th>\n",
       "      <td>01-114-00</td>\n",
       "      <td>C-1655035</td>\n",
       "      <td>U.S. Postal Service\\n305 South Washington Stre...</td>\n",
       "      <td>BRISTOL</td>\n",
       "      <td>491110 /\\n491110</td>\n",
       "      <td>9/3/2020</td>\n",
       "      <td>Phone</td>\n",
       "      <td>Nonformal</td>\n",
       "      <td>NaN</td>\n",
       "      <td>N-16-COVID-19:</td>\n",
       "      <td>1. Not everyone is wearing a face mask fully  ...</td>\n",
       "      <td>2/\\n2</td>\n",
       "    </tr>\n",
       "    <tr>\n",
       "      <th>2</th>\n",
       "      <td>01-114-00</td>\n",
       "      <td>C-1659760</td>\n",
       "      <td>Yotel Boston\\n65 Seaport Boulevard, BOSTON, MA...</td>\n",
       "      <td>SUFFOLK</td>\n",
       "      <td>721110 /\\n721110</td>\n",
       "      <td>9/14/2020</td>\n",
       "      <td>Online</td>\n",
       "      <td>Nonformal</td>\n",
       "      <td>NaN</td>\n",
       "      <td>N-16-COVID-19:</td>\n",
       "      <td>An employee tested positive for COVID-19  afte...</td>\n",
       "      <td>1/\\n75</td>\n",
       "    </tr>\n",
       "    <tr>\n",
       "      <th>3</th>\n",
       "      <td>01-114-00</td>\n",
       "      <td>C-1662856</td>\n",
       "      <td>US Postal Service\\n333 Commerce Drive, BRAINTR...</td>\n",
       "      <td>NORFOLK</td>\n",
       "      <td>491110 /\\n491110</td>\n",
       "      <td>9/22/2020</td>\n",
       "      <td>Phone</td>\n",
       "      <td>Nonformal</td>\n",
       "      <td>NaN</td>\n",
       "      <td>N-16-COVID-19:</td>\n",
       "      <td>333 Commerce Drive, Braintree, Ma. \\n\\nThe wea...</td>\n",
       "      <td>1/\\n10</td>\n",
       "    </tr>\n",
       "    <tr>\n",
       "      <th>4</th>\n",
       "      <td>01-115-00</td>\n",
       "      <td>C-1659207</td>\n",
       "      <td>Macys Logistics and Operations\\n475 Knotter Dr...</td>\n",
       "      <td>NEW HAVEN</td>\n",
       "      <td>541614 /\\n541614</td>\n",
       "      <td>9/14/2020</td>\n",
       "      <td>Online</td>\n",
       "      <td>Formal</td>\n",
       "      <td>NaN</td>\n",
       "      <td>N-16-COVID-19:</td>\n",
       "      <td>Employees lowering Covid-19 masks to talk to o...</td>\n",
       "      <td>/\\n</td>\n",
       "    </tr>\n",
       "    <tr>\n",
       "      <th>...</th>\n",
       "      <td>...</td>\n",
       "      <td>...</td>\n",
       "      <td>...</td>\n",
       "      <td>...</td>\n",
       "      <td>...</td>\n",
       "      <td>...</td>\n",
       "      <td>...</td>\n",
       "      <td>...</td>\n",
       "      <td>...</td>\n",
       "      <td>...</td>\n",
       "      <td>...</td>\n",
       "      <td>...</td>\n",
       "    </tr>\n",
       "    <tr>\n",
       "      <th>26958</th>\n",
       "      <td>10-553-60</td>\n",
       "      <td>C-1634751</td>\n",
       "      <td>KAISER ALUMINUM FABRICATED PRODUCTS DBA KAISER...</td>\n",
       "      <td>SPOKANE</td>\n",
       "      <td>331314 /\\n331314</td>\n",
       "      <td>7/30/2020</td>\n",
       "      <td>Mail</td>\n",
       "      <td>Nonformal</td>\n",
       "      <td>NaN</td>\n",
       "      <td>N-16-COVID-19:</td>\n",
       "      <td>Facilitator not maintaining social distancing ...</td>\n",
       "      <td>/\\n</td>\n",
       "    </tr>\n",
       "    <tr>\n",
       "      <th>26959</th>\n",
       "      <td>10-553-60</td>\n",
       "      <td>C-1638244</td>\n",
       "      <td>JTI COLFAX LLC DBA JONES TRUCK &amp; IMPLEMENT\\n42...</td>\n",
       "      <td>WHITMAN</td>\n",
       "      <td>423820 /\\n423820</td>\n",
       "      <td>8/4/2020</td>\n",
       "      <td>Mail</td>\n",
       "      <td>Nonformal</td>\n",
       "      <td>NaN</td>\n",
       "      <td>N-16-COVID-19:</td>\n",
       "      <td>Between 30-40 employees at each location not w...</td>\n",
       "      <td>/\\n</td>\n",
       "    </tr>\n",
       "    <tr>\n",
       "      <th>26960</th>\n",
       "      <td>10-553-60</td>\n",
       "      <td>C-1641925</td>\n",
       "      <td>PIONEER HUMAN SERVICES DBA SPOKANE RESIDENTIAL...</td>\n",
       "      <td>SPOKANE</td>\n",
       "      <td>561210 /\\n561210</td>\n",
       "      <td>8/10/2020</td>\n",
       "      <td>Mail</td>\n",
       "      <td>Formal</td>\n",
       "      <td>NaN</td>\n",
       "      <td>N-16-COVID-19:</td>\n",
       "      <td>Coworker tested positive for COVID-19 and came...</td>\n",
       "      <td>/\\n</td>\n",
       "    </tr>\n",
       "    <tr>\n",
       "      <th>26961</th>\n",
       "      <td>10-553-60</td>\n",
       "      <td>C-1642846</td>\n",
       "      <td>SPOKANE COUNTY DBA SPOKANE COUNTY\\nW 1116 Broa...</td>\n",
       "      <td>SPOKANE</td>\n",
       "      <td>921120 /\\n921120</td>\n",
       "      <td>8/11/2020</td>\n",
       "      <td>Mail</td>\n",
       "      <td>Formal</td>\n",
       "      <td>NaN</td>\n",
       "      <td>N-16-COVID-19:</td>\n",
       "      <td>Employees not wearing masks.</td>\n",
       "      <td>/\\n</td>\n",
       "    </tr>\n",
       "    <tr>\n",
       "      <th>26962</th>\n",
       "      <td>10-553-60</td>\n",
       "      <td>C-1647719</td>\n",
       "      <td>SCHOOL DISTRICT NO 50 DBA SCHOOL DISTRICT NO 5...</td>\n",
       "      <td>FERRY</td>\n",
       "      <td>611110 /\\n611110</td>\n",
       "      <td>8/19/2020</td>\n",
       "      <td>Mail</td>\n",
       "      <td>Formal</td>\n",
       "      <td>NaN</td>\n",
       "      <td>N-16-COVID-19:</td>\n",
       "      <td>Staff in the school office are not wearing mas...</td>\n",
       "      <td>/\\n</td>\n",
       "    </tr>\n",
       "  </tbody>\n",
       "</table>\n",
       "<p>26963 rows × 12 columns</p>\n",
       "</div>"
      ],
      "text/plain": [
       "             RID     Act ID  \\\n",
       "0      01-111-00  C-1664823   \n",
       "1      01-114-00  C-1655035   \n",
       "2      01-114-00  C-1659760   \n",
       "3      01-114-00  C-1662856   \n",
       "4      01-115-00  C-1659207   \n",
       "...          ...        ...   \n",
       "26958  10-553-60  C-1634751   \n",
       "26959  10-553-60  C-1638244   \n",
       "26960  10-553-60  C-1641925   \n",
       "26961  10-553-60  C-1642846   \n",
       "26962  10-553-60  C-1647719   \n",
       "\n",
       "                 Establishment Name\\nSite City-State-Zip     County  \\\n",
       "0      Half Pints Preschool & Daycare Center\\n7 Eusti...   KENNEBEC   \n",
       "1      U.S. Postal Service\\n305 South Washington Stre...    BRISTOL   \n",
       "2      Yotel Boston\\n65 Seaport Boulevard, BOSTON, MA...    SUFFOLK   \n",
       "3      US Postal Service\\n333 Commerce Drive, BRAINTR...    NORFOLK   \n",
       "4      Macys Logistics and Operations\\n475 Knotter Dr...  NEW HAVEN   \n",
       "...                                                  ...        ...   \n",
       "26958  KAISER ALUMINUM FABRICATED PRODUCTS DBA KAISER...    SPOKANE   \n",
       "26959  JTI COLFAX LLC DBA JONES TRUCK & IMPLEMENT\\n42...    WHITMAN   \n",
       "26960  PIONEER HUMAN SERVICES DBA SPOKANE RESIDENTIAL...    SPOKANE   \n",
       "26961  SPOKANE COUNTY DBA SPOKANE COUNTY\\nW 1116 Broa...    SPOKANE   \n",
       "26962  SCHOOL DISTRICT NO 50 DBA SCHOOL DISTRICT NO 5...      FERRY   \n",
       "\n",
       "      Primary/Site NAICS Receipt Date Receipt Type  Formality  Insp ID  \\\n",
       "0       624410 /\\n624410    9/24/2020        Phone  Nonformal      NaN   \n",
       "1       491110 /\\n491110     9/3/2020        Phone  Nonformal      NaN   \n",
       "2       721110 /\\n721110    9/14/2020       Online  Nonformal      NaN   \n",
       "3       491110 /\\n491110    9/22/2020        Phone  Nonformal      NaN   \n",
       "4       541614 /\\n541614    9/14/2020       Online     Formal      NaN   \n",
       "...                  ...          ...          ...        ...      ...   \n",
       "26958   331314 /\\n331314    7/30/2020         Mail  Nonformal      NaN   \n",
       "26959   423820 /\\n423820     8/4/2020         Mail  Nonformal      NaN   \n",
       "26960   561210 /\\n561210    8/10/2020         Mail     Formal      NaN   \n",
       "26961   921120 /\\n921120    8/11/2020         Mail     Formal      NaN   \n",
       "26962   611110 /\\n611110    8/19/2020         Mail     Formal      NaN   \n",
       "\n",
       "            Addl' Code                           Hazard Desc and Location  \\\n",
       "0      N-16-COVID-19:   The employer is not enforcing CDC guidelines a...   \n",
       "1      N-16-COVID-19:   1. Not everyone is wearing a face mask fully  ...   \n",
       "2      N-16-COVID-19:   An employee tested positive for COVID-19  afte...   \n",
       "3      N-16-COVID-19:   333 Commerce Drive, Braintree, Ma. \\n\\nThe wea...   \n",
       "4      N-16-COVID-19:   Employees lowering Covid-19 masks to talk to o...   \n",
       "...                ...                                                ...   \n",
       "26958  N-16-COVID-19:   Facilitator not maintaining social distancing ...   \n",
       "26959  N-16-COVID-19:   Between 30-40 employees at each location not w...   \n",
       "26960  N-16-COVID-19:   Coworker tested positive for COVID-19 and came...   \n",
       "26961  N-16-COVID-19:                       Employees not wearing masks.    \n",
       "26962  N-16-COVID-19:   Staff in the school office are not wearing mas...   \n",
       "\n",
       "      No Alleged Hazards/No Emp Exposed  \n",
       "0                                1/\\n11  \n",
       "1                                 2/\\n2  \n",
       "2                                1/\\n75  \n",
       "3                                1/\\n10  \n",
       "4                                   /\\n  \n",
       "...                                 ...  \n",
       "26958                               /\\n  \n",
       "26959                               /\\n  \n",
       "26960                               /\\n  \n",
       "26961                               /\\n  \n",
       "26962                               /\\n  \n",
       "\n",
       "[26963 rows x 12 columns]"
      ]
     },
     "execution_count": 191,
     "metadata": {},
     "output_type": "execute_result"
    }
   ],
   "source": [
    "df_closed"
   ]
  },
  {
   "cell_type": "code",
   "execution_count": 16,
   "metadata": {},
   "outputs": [],
   "source": [
    "df_ct_2 = df_closed[df_closed['Establishment Name\\nSite City-State-Zip'].str.contains(r'CONNECTICUT')]"
   ]
  },
  {
   "cell_type": "code",
   "execution_count": 19,
   "metadata": {},
   "outputs": [
    {
     "data": {
      "text/plain": [
       "HARTFORD      101\n",
       "FAIRFIELD      81\n",
       "NEW HAVEN      63\n",
       "NEW LONDON     21\n",
       "WINDHAM        14\n",
       "TOLLAND        12\n",
       "LITCHFIELD      9\n",
       "MIDDLESEX       8\n",
       "Name: County, dtype: int64"
      ]
     },
     "execution_count": 19,
     "metadata": {},
     "output_type": "execute_result"
    }
   ],
   "source": [
    "df_ct_2.County.value_counts()"
   ]
  },
  {
   "cell_type": "code",
   "execution_count": 113,
   "metadata": {},
   "outputs": [
    {
     "name": "stderr",
     "output_type": "stream",
     "text": [
      "/Users/kasturipananjady/.pyenv/versions/3.7.1/lib/python3.7/site-packages/ipykernel_launcher.py:1: SettingWithCopyWarning: \n",
      "A value is trying to be set on a copy of a slice from a DataFrame.\n",
      "Try using .loc[row_indexer,col_indexer] = value instead\n",
      "\n",
      "See the caveats in the documentation: https://pandas.pydata.org/pandas-docs/stable/user_guide/indexing.html#returning-a-view-versus-a-copy\n",
      "  \"\"\"Entry point for launching an IPython kernel.\n"
     ]
    }
   ],
   "source": [
    "df_ct_2['Industry_code'] = df_ct_2['Primary/Site NAICS'].str.extract(r'(\\d\\d)')"
   ]
  },
  {
   "cell_type": "code",
   "execution_count": 128,
   "metadata": {},
   "outputs": [],
   "source": [
    "df_ct_closed_complaints_by_industry = pd.DataFrame(df_ct_2['Industry_code'].value_counts()).reset_index().rename(columns={\n",
    "    'index':'Code',\n",
    "    'Industry_code': 'complaints_closed'\n",
    "})"
   ]
  },
  {
   "cell_type": "code",
   "execution_count": 129,
   "metadata": {},
   "outputs": [],
   "source": [
    "df_ct_closed_complaints_by_industry.Code = df_ct_closed_complaints_by_industry.Code.astype(int)"
   ]
  },
  {
   "cell_type": "code",
   "execution_count": 130,
   "metadata": {},
   "outputs": [],
   "source": [
    "df_naisc = pd.read_csv('NAISC.csv')"
   ]
  },
  {
   "cell_type": "code",
   "execution_count": 170,
   "metadata": {},
   "outputs": [],
   "source": [
    "df_ct_closed_complaints_by_industry = df_ct_closed_complaints_by_industry.merge(df_naisc).drop(columns='Number of Business Establishments')"
   ]
  },
  {
   "cell_type": "code",
   "execution_count": 172,
   "metadata": {},
   "outputs": [],
   "source": [
    "df_ct_complaints_by_industry = df_ct_closed_complaints_by_industry.merge(df_ct_open_complaints_by_industry)"
   ]
  },
  {
   "cell_type": "code",
   "execution_count": 175,
   "metadata": {},
   "outputs": [],
   "source": [
    "df_ct_complaints_by_industry['total'] = df_ct_complaints_by_industry['complaints']+df_ct_complaints_by_industry['complaints_open']"
   ]
  },
  {
   "cell_type": "code",
   "execution_count": 176,
   "metadata": {},
   "outputs": [
    {
     "data": {
      "text/html": [
       "<div>\n",
       "<style scoped>\n",
       "    .dataframe tbody tr th:only-of-type {\n",
       "        vertical-align: middle;\n",
       "    }\n",
       "\n",
       "    .dataframe tbody tr th {\n",
       "        vertical-align: top;\n",
       "    }\n",
       "\n",
       "    .dataframe thead th {\n",
       "        text-align: right;\n",
       "    }\n",
       "</style>\n",
       "<table border=\"1\" class=\"dataframe\">\n",
       "  <thead>\n",
       "    <tr style=\"text-align: right;\">\n",
       "      <th></th>\n",
       "      <th>Code</th>\n",
       "      <th>complaints</th>\n",
       "      <th>Industry Title</th>\n",
       "      <th>complaints_open</th>\n",
       "      <th>total</th>\n",
       "    </tr>\n",
       "  </thead>\n",
       "  <tbody>\n",
       "    <tr>\n",
       "      <th>0</th>\n",
       "      <td>62</td>\n",
       "      <td>84</td>\n",
       "      <td>Health Care and Social Assistance</td>\n",
       "      <td>13</td>\n",
       "      <td>97</td>\n",
       "    </tr>\n",
       "    <tr>\n",
       "      <th>1</th>\n",
       "      <td>33</td>\n",
       "      <td>32</td>\n",
       "      <td>Manufacturing</td>\n",
       "      <td>1</td>\n",
       "      <td>33</td>\n",
       "    </tr>\n",
       "    <tr>\n",
       "      <th>2</th>\n",
       "      <td>49</td>\n",
       "      <td>25</td>\n",
       "      <td>Transportation and Warehousing\\t</td>\n",
       "      <td>2</td>\n",
       "      <td>27</td>\n",
       "    </tr>\n",
       "    <tr>\n",
       "      <th>3</th>\n",
       "      <td>72</td>\n",
       "      <td>19</td>\n",
       "      <td>Accommodation and Food Services</td>\n",
       "      <td>3</td>\n",
       "      <td>22</td>\n",
       "    </tr>\n",
       "    <tr>\n",
       "      <th>4</th>\n",
       "      <td>45</td>\n",
       "      <td>15</td>\n",
       "      <td>Retail Trade</td>\n",
       "      <td>1</td>\n",
       "      <td>16</td>\n",
       "    </tr>\n",
       "    <tr>\n",
       "      <th>5</th>\n",
       "      <td>48</td>\n",
       "      <td>14</td>\n",
       "      <td>Transportation and Warehousing</td>\n",
       "      <td>3</td>\n",
       "      <td>17</td>\n",
       "    </tr>\n",
       "    <tr>\n",
       "      <th>6</th>\n",
       "      <td>23</td>\n",
       "      <td>13</td>\n",
       "      <td>Construction</td>\n",
       "      <td>2</td>\n",
       "      <td>15</td>\n",
       "    </tr>\n",
       "    <tr>\n",
       "      <th>7</th>\n",
       "      <td>56</td>\n",
       "      <td>12</td>\n",
       "      <td>Administrative and Support and Waste Managemen...</td>\n",
       "      <td>1</td>\n",
       "      <td>13</td>\n",
       "    </tr>\n",
       "    <tr>\n",
       "      <th>8</th>\n",
       "      <td>54</td>\n",
       "      <td>10</td>\n",
       "      <td>Professional</td>\n",
       "      <td>1</td>\n",
       "      <td>11</td>\n",
       "    </tr>\n",
       "    <tr>\n",
       "      <th>9</th>\n",
       "      <td>42</td>\n",
       "      <td>10</td>\n",
       "      <td>Wholesale Trade</td>\n",
       "      <td>4</td>\n",
       "      <td>14</td>\n",
       "    </tr>\n",
       "    <tr>\n",
       "      <th>10</th>\n",
       "      <td>32</td>\n",
       "      <td>5</td>\n",
       "      <td>Manufacturing</td>\n",
       "      <td>1</td>\n",
       "      <td>6</td>\n",
       "    </tr>\n",
       "    <tr>\n",
       "      <th>11</th>\n",
       "      <td>61</td>\n",
       "      <td>4</td>\n",
       "      <td>Educational Services</td>\n",
       "      <td>1</td>\n",
       "      <td>5</td>\n",
       "    </tr>\n",
       "    <tr>\n",
       "      <th>12</th>\n",
       "      <td>92</td>\n",
       "      <td>3</td>\n",
       "      <td>Public Administration</td>\n",
       "      <td>4</td>\n",
       "      <td>7</td>\n",
       "    </tr>\n",
       "    <tr>\n",
       "      <th>13</th>\n",
       "      <td>71</td>\n",
       "      <td>2</td>\n",
       "      <td>Arts</td>\n",
       "      <td>1</td>\n",
       "      <td>3</td>\n",
       "    </tr>\n",
       "  </tbody>\n",
       "</table>\n",
       "</div>"
      ],
      "text/plain": [
       "    Code  complaints                                     Industry Title  \\\n",
       "0     62          84                  Health Care and Social Assistance   \n",
       "1     33          32                                      Manufacturing   \n",
       "2     49          25                   Transportation and Warehousing\\t   \n",
       "3     72          19                    Accommodation and Food Services   \n",
       "4     45          15                                       Retail Trade   \n",
       "5     48          14                     Transportation and Warehousing   \n",
       "6     23          13                                       Construction   \n",
       "7     56          12  Administrative and Support and Waste Managemen...   \n",
       "8     54          10                                       Professional   \n",
       "9     42          10                                    Wholesale Trade   \n",
       "10    32           5                                      Manufacturing   \n",
       "11    61           4                               Educational Services   \n",
       "12    92           3                              Public Administration   \n",
       "13    71           2                                               Arts   \n",
       "\n",
       "    complaints_open  total  \n",
       "0                13     97  \n",
       "1                 1     33  \n",
       "2                 2     27  \n",
       "3                 3     22  \n",
       "4                 1     16  \n",
       "5                 3     17  \n",
       "6                 2     15  \n",
       "7                 1     13  \n",
       "8                 1     11  \n",
       "9                 4     14  \n",
       "10                1      6  \n",
       "11                1      5  \n",
       "12                4      7  \n",
       "13                1      3  "
      ]
     },
     "execution_count": 176,
     "metadata": {},
     "output_type": "execute_result"
    }
   ],
   "source": [
    "df_ct_complaints_by_industry"
   ]
  },
  {
   "cell_type": "code",
   "execution_count": 201,
   "metadata": {},
   "outputs": [
    {
     "data": {
      "text/plain": [
       "NaN          302\n",
       "1476019.0      2\n",
       "1488717.0      1\n",
       "1474175.0      1\n",
       "1475832.0      1\n",
       "1473758.0      1\n",
       "1471634.0      1\n",
       "Name: Insp ID, dtype: int64"
      ]
     },
     "execution_count": 201,
     "metadata": {},
     "output_type": "execute_result"
    }
   ],
   "source": [
    "df_ct_2['Insp ID'].value_counts(dropna=False)"
   ]
  },
  {
   "cell_type": "code",
   "execution_count": 90,
   "metadata": {},
   "outputs": [
    {
     "data": {
      "text/plain": [
       "309"
      ]
     },
     "execution_count": 90,
     "metadata": {},
     "output_type": "execute_result"
    }
   ],
   "source": [
    "len(df_ct_2)"
   ]
  },
  {
   "cell_type": "code",
   "execution_count": 31,
   "metadata": {},
   "outputs": [
    {
     "name": "stderr",
     "output_type": "stream",
     "text": [
      "/Users/kasturipananjady/.pyenv/versions/3.7.1/lib/python3.7/site-packages/ipykernel_launcher.py:1: SettingWithCopyWarning: \n",
      "A value is trying to be set on a copy of a slice from a DataFrame.\n",
      "Try using .loc[row_indexer,col_indexer] = value instead\n",
      "\n",
      "See the caveats in the documentation: https://pandas.pydata.org/pandas-docs/stable/user_guide/indexing.html#returning-a-view-versus-a-copy\n",
      "  \"\"\"Entry point for launching an IPython kernel.\n"
     ]
    }
   ],
   "source": [
    "df_ct_2['Receipt Date'] = pd.to_datetime(df_ct_2['Receipt Date'])"
   ]
  },
  {
   "cell_type": "code",
   "execution_count": 178,
   "metadata": {},
   "outputs": [
    {
     "name": "stderr",
     "output_type": "stream",
     "text": [
      "/Users/kasturipananjady/.pyenv/versions/3.7.1/lib/python3.7/site-packages/ipykernel_launcher.py:1: SettingWithCopyWarning: \n",
      "A value is trying to be set on a copy of a slice from a DataFrame.\n",
      "Try using .loc[row_indexer,col_indexer] = value instead\n",
      "\n",
      "See the caveats in the documentation: https://pandas.pydata.org/pandas-docs/stable/user_guide/indexing.html#returning-a-view-versus-a-copy\n",
      "  \"\"\"Entry point for launching an IPython kernel.\n"
     ]
    }
   ],
   "source": [
    "df_open_ct['weight']=1"
   ]
  },
  {
   "cell_type": "code",
   "execution_count": 49,
   "metadata": {},
   "outputs": [
    {
     "name": "stderr",
     "output_type": "stream",
     "text": [
      "/Users/kasturipananjady/.pyenv/versions/3.7.1/lib/python3.7/site-packages/ipykernel_launcher.py:1: SettingWithCopyWarning: \n",
      "A value is trying to be set on a copy of a slice from a DataFrame.\n",
      "Try using .loc[row_indexer,col_indexer] = value instead\n",
      "\n",
      "See the caveats in the documentation: https://pandas.pydata.org/pandas-docs/stable/user_guide/indexing.html#returning-a-view-versus-a-copy\n",
      "  \"\"\"Entry point for launching an IPython kernel.\n"
     ]
    }
   ],
   "source": [
    "df_ct_2['weight']=1"
   ]
  },
  {
   "cell_type": "code",
   "execution_count": 52,
   "metadata": {},
   "outputs": [],
   "source": [
    "df_complaints_over_time = pd.DataFrame(df_ct_2.groupby(by='Receipt Date').sum()).reset_index().rename(columns={\n",
    "    'weight': 'Closed Complaints'\n",
    "})"
   ]
  },
  {
   "cell_type": "code",
   "execution_count": 179,
   "metadata": {},
   "outputs": [],
   "source": [
    "df_complaints_over_time_2 = pd.DataFrame(df_open_ct.groupby(by='Receipt Date').sum()).reset_index().rename(columns={\n",
    "    'weight': 'Open Complaints'\n",
    "})"
   ]
  },
  {
   "cell_type": "code",
   "execution_count": 206,
   "metadata": {},
   "outputs": [],
   "source": [
    "idx = pd.date_range('03-01-2020', '08-16-2020')"
   ]
  },
  {
   "cell_type": "code",
   "execution_count": 207,
   "metadata": {},
   "outputs": [],
   "source": [
    "df_complaints_over_time = df_complaints_over_time.set_index('Receipt Date')"
   ]
  },
  {
   "cell_type": "code",
   "execution_count": 208,
   "metadata": {},
   "outputs": [],
   "source": [
    "df_complaints_over_time.index = pd.DatetimeIndex(df_complaints_over_time.index)\n",
    "\n",
    "df_complaints_over_time = df_complaints_over_time.reindex(idx, fill_value=0)\n"
   ]
  },
  {
   "cell_type": "code",
   "execution_count": 214,
   "metadata": {},
   "outputs": [],
   "source": [
    "df_complaints_over_time = df_complaints_over_time.reset_index()"
   ]
  },
  {
   "cell_type": "code",
   "execution_count": 215,
   "metadata": {},
   "outputs": [
    {
     "ename": "KeyError",
     "evalue": "\"None of ['Receipt Date'] are in the columns\"",
     "output_type": "error",
     "traceback": [
      "\u001b[0;31m---------------------------------------------------------------------------\u001b[0m",
      "\u001b[0;31mKeyError\u001b[0m                                  Traceback (most recent call last)",
      "\u001b[0;32m<ipython-input-215-0f86ae0b1530>\u001b[0m in \u001b[0;36m<module>\u001b[0;34m\u001b[0m\n\u001b[0;32m----> 1\u001b[0;31m \u001b[0mdf_complaints_over_time_2\u001b[0m \u001b[0;34m=\u001b[0m \u001b[0mdf_complaints_over_time_2\u001b[0m\u001b[0;34m.\u001b[0m\u001b[0mset_index\u001b[0m\u001b[0;34m(\u001b[0m\u001b[0;34m'Receipt Date'\u001b[0m\u001b[0;34m)\u001b[0m\u001b[0;34m\u001b[0m\u001b[0;34m\u001b[0m\u001b[0m\n\u001b[0m\u001b[1;32m      2\u001b[0m \u001b[0mdf_complaints_over_time_2\u001b[0m\u001b[0;34m.\u001b[0m\u001b[0mindex\u001b[0m \u001b[0;34m=\u001b[0m \u001b[0mpd\u001b[0m\u001b[0;34m.\u001b[0m\u001b[0mDatetimeIndex\u001b[0m\u001b[0;34m(\u001b[0m\u001b[0mdf_complaints_over_time_2\u001b[0m\u001b[0;34m.\u001b[0m\u001b[0mindex\u001b[0m\u001b[0;34m)\u001b[0m\u001b[0;34m\u001b[0m\u001b[0;34m\u001b[0m\u001b[0m\n\u001b[1;32m      3\u001b[0m \u001b[0mdf_complaints_over_time_2\u001b[0m \u001b[0;34m=\u001b[0m \u001b[0mdf_complaints_over_time_2\u001b[0m\u001b[0;34m.\u001b[0m\u001b[0mreindex\u001b[0m\u001b[0;34m(\u001b[0m\u001b[0midx\u001b[0m\u001b[0;34m,\u001b[0m \u001b[0mfill_value\u001b[0m\u001b[0;34m=\u001b[0m\u001b[0;36m0\u001b[0m\u001b[0;34m)\u001b[0m\u001b[0;34m\u001b[0m\u001b[0;34m\u001b[0m\u001b[0m\n\u001b[1;32m      4\u001b[0m \u001b[0mdf_complaints_over_time_2\u001b[0m \u001b[0;34m=\u001b[0m \u001b[0mdf_complaints_over_time_2\u001b[0m\u001b[0;34m.\u001b[0m\u001b[0mreset_index\u001b[0m\u001b[0;34m(\u001b[0m\u001b[0;34m)\u001b[0m\u001b[0;34m\u001b[0m\u001b[0;34m\u001b[0m\u001b[0m\n",
      "\u001b[0;32m~/.pyenv/versions/3.7.1/lib/python3.7/site-packages/pandas/core/frame.py\u001b[0m in \u001b[0;36mset_index\u001b[0;34m(self, keys, drop, append, inplace, verify_integrity)\u001b[0m\n\u001b[1;32m   4546\u001b[0m \u001b[0;34m\u001b[0m\u001b[0m\n\u001b[1;32m   4547\u001b[0m         \u001b[0;32mif\u001b[0m \u001b[0mmissing\u001b[0m\u001b[0;34m:\u001b[0m\u001b[0;34m\u001b[0m\u001b[0;34m\u001b[0m\u001b[0m\n\u001b[0;32m-> 4548\u001b[0;31m             \u001b[0;32mraise\u001b[0m \u001b[0mKeyError\u001b[0m\u001b[0;34m(\u001b[0m\u001b[0;34mf\"None of {missing} are in the columns\"\u001b[0m\u001b[0;34m)\u001b[0m\u001b[0;34m\u001b[0m\u001b[0;34m\u001b[0m\u001b[0m\n\u001b[0m\u001b[1;32m   4549\u001b[0m \u001b[0;34m\u001b[0m\u001b[0m\n\u001b[1;32m   4550\u001b[0m         \u001b[0;32mif\u001b[0m \u001b[0minplace\u001b[0m\u001b[0;34m:\u001b[0m\u001b[0;34m\u001b[0m\u001b[0;34m\u001b[0m\u001b[0m\n",
      "\u001b[0;31mKeyError\u001b[0m: \"None of ['Receipt Date'] are in the columns\""
     ]
    }
   ],
   "source": [
    "df_complaints_over_time_2 = df_complaints_over_time_2.set_index('Receipt Date')\n",
    "df_complaints_over_time_2.index = pd.DatetimeIndex(df_complaints_over_time_2.index)\n",
    "df_complaints_over_time_2 = df_complaints_over_time_2.reindex(idx, fill_value=0)"
   ]
  },
  {
   "cell_type": "code",
   "execution_count": 216,
   "metadata": {},
   "outputs": [],
   "source": [
    "df_complaints_over_time_2 = df_complaints_over_time_2.reset_index()"
   ]
  },
  {
   "cell_type": "code",
   "execution_count": 218,
   "metadata": {},
   "outputs": [],
   "source": [
    "df_all_complaints_over_time= df_complaints_over_time_2.merge(df_complaints_over_time)"
   ]
  },
  {
   "cell_type": "code",
   "execution_count": 223,
   "metadata": {},
   "outputs": [
    {
     "data": {
      "text/plain": [
       "Index(['index', 'Insp ID', 'Open Complaints', 'Closed Complaints'], dtype='object')"
      ]
     },
     "execution_count": 223,
     "metadata": {},
     "output_type": "execute_result"
    }
   ],
   "source": [
    "df_all_complaints_over_time.columns"
   ]
  },
  {
   "cell_type": "code",
   "execution_count": 226,
   "metadata": {},
   "outputs": [],
   "source": [
    "df_all_complaints_over_time['All'] = df_all_complaints_over_time['Open Complaints']+df_all_complaints_over_time['Closed Complaints']"
   ]
  },
  {
   "cell_type": "code",
   "execution_count": 134,
   "metadata": {},
   "outputs": [],
   "source": [
    "df_complaints_over_time_by_industry = pd.DataFrame(df_ct_2.groupby(by=['Receipt Date','Industry_code']).sum()).reset_index().rename(columns={\n",
    "    'weight': 'Closed Complaints'\n",
    "})"
   ]
  },
  {
   "cell_type": "markdown",
   "metadata": {},
   "source": [
    "# OSHA over time"
   ]
  },
  {
   "cell_type": "code",
   "execution_count": 91,
   "metadata": {},
   "outputs": [],
   "source": [
    "#since March"
   ]
  },
  {
   "cell_type": "code",
   "execution_count": 229,
   "metadata": {},
   "outputs": [
    {
     "data": {
      "text/plain": [
       "<AxesSubplot:xlabel='index'>"
      ]
     },
     "execution_count": 229,
     "metadata": {},
     "output_type": "execute_result"
    },
    {
     "data": {
      "image/png": "[encoded data removed]",
      "text/plain": [
       "<Figure size 432x288 with 1 Axes>"
      ]
     },
     "metadata": {
      "needs_background": "light"
     },
     "output_type": "display_data"
    }
   ],
   "source": [
    "df_all_complaints_over_time.plot(x='index', y='All')"
   ]
  },
  {
   "cell_type": "code",
   "execution_count": null,
   "metadata": {},
   "outputs": [],
   "source": [
    "#healthcare, medical"
   ]
  },
  {
   "cell_type": "code",
   "execution_count": 92,
   "metadata": {},
   "outputs": [],
   "source": [
    "#since July 1; note the axis starts at 1"
   ]
  },
  {
   "cell_type": "code",
   "execution_count": 232,
   "metadata": {},
   "outputs": [
    {
     "data": {
      "text/plain": [
       "<AxesSubplot:xlabel='index'>"
      ]
     },
     "execution_count": 232,
     "metadata": {},
     "output_type": "execute_result"
    },
    {
     "data": {
      "image/png": "[encoded data removed]",
      "text/plain": [
       "<Figure size 432x288 with 1 Axes>"
      ]
     },
     "metadata": {
      "needs_background": "light"
     },
     "output_type": "display_data"
    }
   ],
   "source": [
    "df_all_complaints_over_time[df_all_complaints_over_time['index']>'2020-07-01'].plot(x='index', y='All')"
   ]
  },
  {
   "cell_type": "markdown",
   "metadata": {},
   "source": [
    "# Deaths over time"
   ]
  },
  {
   "cell_type": "code",
   "execution_count": 65,
   "metadata": {},
   "outputs": [],
   "source": [
    "df_deaths = pd.read_csv('COVID-19_Tests__Cases__Hospitalizations__and_Deaths__Statewide_ (1).csv')"
   ]
  },
  {
   "cell_type": "code",
   "execution_count": 68,
   "metadata": {},
   "outputs": [],
   "source": [
    "df_deaths['Date'] = pd.to_datetime(df_deaths['Date'])"
   ]
  },
  {
   "cell_type": "code",
   "execution_count": 72,
   "metadata": {},
   "outputs": [],
   "source": [
    "df_deaths = df_deaths.sort_values(by='Date')"
   ]
  },
  {
   "cell_type": "code",
   "execution_count": 103,
   "metadata": {},
   "outputs": [],
   "source": [
    "df_deaths['Total cases each day'] = df_deaths['Total cases'].diff()"
   ]
  },
  {
   "cell_type": "code",
   "execution_count": 78,
   "metadata": {},
   "outputs": [],
   "source": [
    "df_deaths['Total deaths each day'] = df_deaths['Total deaths'].diff()"
   ]
  },
  {
   "cell_type": "code",
   "execution_count": null,
   "metadata": {},
   "outputs": [],
   "source": [
    "#since March"
   ]
  },
  {
   "cell_type": "code",
   "execution_count": 186,
   "metadata": {},
   "outputs": [],
   "source": [
    "df_deaths['Seven day rolling average of deaths per 100'] = df_deaths['Total deaths each day'].rolling(7).mean()/100"
   ]
  },
  {
   "cell_type": "code",
   "execution_count": 79,
   "metadata": {},
   "outputs": [
    {
     "data": {
      "text/plain": [
       "<AxesSubplot:xlabel='Date'>"
      ]
     },
     "execution_count": 79,
     "metadata": {},
     "output_type": "execute_result"
    },
    {
     "data": {
      "image/png": "[encoded data removed]",
      "text/plain": [
       "<Figure size 432x288 with 1 Axes>"
      ]
     },
     "metadata": {
      "needs_background": "light"
     },
     "output_type": "display_data"
    }
   ],
   "source": [
    "df_deaths.plot(x='Date', y='Total deaths each day')"
   ]
  },
  {
   "cell_type": "code",
   "execution_count": 183,
   "metadata": {},
   "outputs": [
    {
     "data": {
      "text/plain": [
       "<AxesSubplot:xlabel='Date'>"
      ]
     },
     "execution_count": 183,
     "metadata": {},
     "output_type": "execute_result"
    },
    {
     "data": {
      "image/png": "[encoded data removed]",
      "text/plain": [
       "<Figure size 432x288 with 1 Axes>"
      ]
     },
     "metadata": {
      "needs_background": "light"
     },
     "output_type": "display_data"
    }
   ],
   "source": [
    "df_deaths.plot(x='Date', y='Seven day rolling average of deaths per thousand')"
   ]
  },
  {
   "cell_type": "code",
   "execution_count": null,
   "metadata": {},
   "outputs": [],
   "source": [
    "#since July 1"
   ]
  },
  {
   "cell_type": "code",
   "execution_count": 80,
   "metadata": {},
   "outputs": [
    {
     "data": {
      "text/plain": [
       "<AxesSubplot:xlabel='Date'>"
      ]
     },
     "execution_count": 80,
     "metadata": {},
     "output_type": "execute_result"
    },
    {
     "data": {
      "image/png": "[encoded data removed]",
      "text/plain": [
       "<Figure size 432x288 with 1 Axes>"
      ]
     },
     "metadata": {
      "needs_background": "light"
     },
     "output_type": "display_data"
    }
   ],
   "source": [
    "df_deaths[df_deaths['Date']>'2020-07-01'].plot(x='Date', y='Total deaths each day')"
   ]
  },
  {
   "cell_type": "markdown",
   "metadata": {},
   "source": [
    "# Superimposing the curves"
   ]
  },
  {
   "cell_type": "code",
   "execution_count": 81,
   "metadata": {},
   "outputs": [],
   "source": [
    "import matplotlib.pyplot as plt"
   ]
  },
  {
   "cell_type": "code",
   "execution_count": null,
   "metadata": {},
   "outputs": [],
   "source": [
    "#since March"
   ]
  },
  {
   "cell_type": "code",
   "execution_count": 84,
   "metadata": {},
   "outputs": [
    {
     "data": {
      "text/plain": [
       "[<matplotlib.lines.Line2D at 0x11bcc0710>]"
      ]
     },
     "execution_count": 84,
     "metadata": {},
     "output_type": "execute_result"
    },
    {
     "data": {
      "image/png": "[encoded data removed]",
      "text/plain": [
       "<Figure size 432x288 with 1 Axes>"
      ]
     },
     "metadata": {
      "needs_background": "light"
     },
     "output_type": "display_data"
    }
   ],
   "source": [
    "fig,ax = plt.subplots()\n",
    "ax.plot(df_deaths['Date'], df_deaths['Total deaths each day'])\n",
    "ax.plot(df_complaints_over_time['Receipt Date'], df_complaints_over_time['Closed Complaints'])"
   ]
  },
  {
   "cell_type": "code",
   "execution_count": 203,
   "metadata": {},
   "outputs": [
    {
     "data": {
      "text/plain": [
       "[<matplotlib.lines.Line2D at 0x11bc328d0>]"
      ]
     },
     "execution_count": 203,
     "metadata": {},
     "output_type": "execute_result"
    },
    {
     "data": {
      "image/png": "[encoded data removed]",
      "text/plain": [
       "<Figure size 432x288 with 1 Axes>"
      ]
     },
     "metadata": {
      "needs_background": "light"
     },
     "output_type": "display_data"
    }
   ],
   "source": [
    "fig,ax = plt.subplots()\n",
    "ax.plot(df_deaths['Date'], df_deaths['Seven day rolling average of deaths per thousand'])\n",
    "ax.plot(df_complaints_over_time['Receipt Date'], df_complaints_over_time['Closed Complaints'])"
   ]
  },
  {
   "cell_type": "code",
   "execution_count": null,
   "metadata": {},
   "outputs": [],
   "source": [
    "#since July 1"
   ]
  },
  {
   "cell_type": "code",
   "execution_count": 95,
   "metadata": {},
   "outputs": [
    {
     "data": {
      "text/plain": [
       "[<matplotlib.lines.Line2D at 0x11c961710>]"
      ]
     },
     "execution_count": 95,
     "metadata": {},
     "output_type": "execute_result"
    },
    {
     "data": {
      "image/png": "[encoded data removed]",
      "text/plain": [
       "<Figure size 720x360 with 1 Axes>"
      ]
     },
     "metadata": {
      "needs_background": "light"
     },
     "output_type": "display_data"
    }
   ],
   "source": [
    "fig,ax = plt.subplots(figsize=(10, 5))\n",
    "ax.plot(df_deaths[df_deaths['Date']>'2020-07-01']['Date'], df_deaths[df_deaths['Date']>'2020-07-01']['Total deaths each day'])\n",
    "ax.plot(df_complaints_over_time[df_complaints_over_time['Receipt Date']>'2020-07-01']['Receipt Date'], df_complaints_over_time[df_complaints_over_time['Receipt Date']>'2020-07-01']['Closed Complaints'])"
   ]
  },
  {
   "cell_type": "code",
   "execution_count": null,
   "metadata": {},
   "outputs": [],
   "source": [
    "fig,ax = plt.subplots()\n",
    "ax.plot(df_deaths[df_deaths['Date']>'2020-07-01']['Date'], df_deaths[df_deaths['Date']>'2020-07-01']['Total deaths each day'])\n",
    "ax.plot(df_complaints_over_time[df_complaints_over_time['Receipt Date']>'2020-07-01']['Receipt Date'], df_complaints_over_time[df_complaints_over_time['Receipt Date']>'2020-07-01']['Closed Complaints'])"
   ]
  },
  {
   "cell_type": "code",
   "execution_count": 104,
   "metadata": {},
   "outputs": [
    {
     "data": {
      "text/plain": [
       "[<matplotlib.lines.Line2D at 0x11cf9a5f8>]"
      ]
     },
     "execution_count": 104,
     "metadata": {},
     "output_type": "execute_result"
    },
    {
     "data": {
      "image/png": "[encoded data removed]",
      "text/plain": [
       "<Figure size 432x288 with 1 Axes>"
      ]
     },
     "metadata": {
      "needs_background": "light"
     },
     "output_type": "display_data"
    }
   ],
   "source": [
    "fig,ax = plt.subplots()\n",
    "ax.plot(df_deaths[df_deaths['Date']>'2020-07-01']['Date'], df_deaths[df_deaths['Date']>'2020-07-01']['Total cases each day'])\n",
    "ax.plot(df_complaints_over_time[df_complaints_over_time['Receipt Date']>'2020-07-01']['Receipt Date'], df_complaints_over_time[df_complaints_over_time['Receipt Date']>'2020-07-01']['Closed Complaints'])"
   ]
  },
  {
   "cell_type": "code",
   "execution_count": 105,
   "metadata": {},
   "outputs": [],
   "source": [
    "df_complaints_over_time.to_csv('OSHA_closedcomp_sinceJuly1_CT.csv', index=False)"
   ]
  },
  {
   "cell_type": "code",
   "execution_count": 137,
   "metadata": {},
   "outputs": [],
   "source": [
    "df_ct_2.to_csv('CT_Closed_OSHA.csv',index=False)"
   ]
  },
  {
   "cell_type": "code",
   "execution_count": null,
   "metadata": {},
   "outputs": [],
   "source": []
  }
 ],
 "metadata": {
  "kernelspec": {
   "display_name": "Python 3",
   "language": "python",
   "name": "python3"
  },
  "language_info": {
   "codemirror_mode": {
    "name": "ipython",
    "version": 3
   },
   "file_extension": ".py",
   "mimetype": "text/x-python",
   "name": "python",
   "nbconvert_exporter": "python",
   "pygments_lexer": "ipython3",
   "version": "3.7.1"
  }
 },
 "nbformat": 4,
 "nbformat_minor": 4
}
